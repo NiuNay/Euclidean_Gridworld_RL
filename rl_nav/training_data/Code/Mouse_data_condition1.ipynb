{
 "cells": [
  {
   "cell_type": "code",
   "execution_count": null,
   "id": "44ad6b3b",
   "metadata": {},
   "outputs": [],
   "source": [
    "import numpy as np\n",
    "import matplotlib.pyplot as plt\n",
    "import matplotlib.colors as mcolors\n",
    "import pandas as pd"
   ]
  },
  {
   "cell_type": "markdown",
   "id": "be479da3",
   "metadata": {},
   "source": [
    "## Load data"
   ]
  },
  {
   "cell_type": "code",
   "execution_count": null,
   "id": "b97735c4",
   "metadata": {},
   "outputs": [],
   "source": [
    "all_data = np.load('condition_1.pkl', allow_pickle=True)\n",
    "\n",
    "data = np.array(all_data['position'])\n",
    "data = np.transpose(data, (1,2,0))\n",
    "num_timepts, num_coords, num_trials = data.shape\n",
    "print(num_timepts, num_coords, num_trials)"
   ]
  },
  {
   "cell_type": "markdown",
   "id": "17af5d77",
   "metadata": {},
   "source": [
    "## Visualise the data"
   ]
  },
  {
   "cell_type": "markdown",
   "id": "12446fb4",
   "metadata": {},
   "source": [
    "#### Plot a single trial"
   ]
  },
  {
   "cell_type": "code",
   "execution_count": null,
   "id": "4a14f395",
   "metadata": {
    "scrolled": false
   },
   "outputs": [],
   "source": [
    "trial1_x = -data[:,0,1]+994.05279541\n",
    "trial1_y = -data[:,1,1]+1002.065979\n",
    "plt.plot(trial1_x, trial1_y)"
   ]
  },
  {
   "cell_type": "markdown",
   "id": "379c7057",
   "metadata": {},
   "source": [
    "#### Plot heatmap of all trials"
   ]
  },
  {
   "cell_type": "code",
   "execution_count": null,
   "id": "fbcc2c7e",
   "metadata": {
    "scrolled": true
   },
   "outputs": [],
   "source": [
    "x = data[:,0,:].reshape(-1)\n",
    "y = data[:,1,:].reshape(-1)\n",
    "\n",
    "heatmap, xedges, yedges = np.histogram2d(x, y, bins=500)\n",
    "extent = [xedges[0], xedges[-1], yedges[0], yedges[-1]]\n",
    "major = np.linspace(0,1000,num=21)\n",
    "\n",
    "plt.clf()\n",
    "plt.imshow(heatmap.T, extent=extent, cmap ='gist_heat_r', vmax=50)\n",
    "ax = plt.gca()\n",
    "# Removes the frame and ticks for a clean figure\n",
    "ax.set(frame_on=False)\n",
    "ax.set_xticks([])\n",
    "ax.set_yticks([])\n",
    "# Uncomment the lines below for gridlines\n",
    "# ax.set_xticks(major)\n",
    "# ax.set_yticks(major)\n",
    "# ax.grid(which='major',color='black', linestyle='-', linewidth=1)\n",
    "plt.colorbar()"
   ]
  },
  {
   "cell_type": "markdown",
   "id": "486dd208",
   "metadata": {},
   "source": [
    "#### Plot a histogram of position coordinates"
   ]
  },
  {
   "cell_type": "code",
   "execution_count": null,
   "id": "d92221ed",
   "metadata": {},
   "outputs": [],
   "source": [
    "# x coordinates\n",
    "plt.hist(x)"
   ]
  },
  {
   "cell_type": "code",
   "execution_count": null,
   "id": "647eb7c9",
   "metadata": {},
   "outputs": [],
   "source": [
    "# y coordinates \n",
    "plt.hist(y)"
   ]
  },
  {
   "cell_type": "markdown",
   "id": "727374a2",
   "metadata": {},
   "source": [
    "## Replace coordinates with gridworld coordinates"
   ]
  },
  {
   "cell_type": "markdown",
   "id": "ba01531a",
   "metadata": {},
   "source": [
    "#### Assign each mouse coordinate to a gridworld position"
   ]
  },
  {
   "cell_type": "code",
   "execution_count": null,
   "id": "66dd1a83",
   "metadata": {},
   "outputs": [],
   "source": [
    "# Code used to check x and y extremes: prints values from the dataset that are smaller/greater than the specified value\n",
    "# Switch between data[:,0,:] for x coordinates and data[:,1,:] for y coordinates\n",
    "data[:,1,:][np.asarray(data[:,1,:]<35.1).nonzero()]"
   ]
  },
  {
   "cell_type": "code",
   "execution_count": null,
   "id": "bf0c9aea",
   "metadata": {
    "scrolled": false
   },
   "outputs": [],
   "source": [
    "square_size = 965/13\n",
    "x0 = 33.5\n",
    "y0 = 37.5\n",
    "for i in range(13):\n",
    "    data[:,0,:][np.logical_and(data[:,0,:]>=(x0+i*square_size),data[:,0,:]<(x0+(i+1)*square_size))] = i+1 # Add 1 so that grid coordinates are between 1 and 13\n",
    "    data[:,1,:][np.logical_and(data[:,1,:]>=(y0+i*square_size),data[:,1,:]<(y0+(i+1)*square_size))] = i+1"
   ]
  },
  {
   "cell_type": "code",
   "execution_count": null,
   "id": "bd271c8c",
   "metadata": {},
   "outputs": [],
   "source": [
    "# Code used to print the continuous x and y coordinates each gridworld square corresponds to\n",
    "for i in range(13):\n",
    "    print(i+1, x0+i*square_size, x0+(i+1)*square_size)\n",
    "for i in range(13):\n",
    "    print(i+1, y0+i*square_size, y0+(i+1)*square_size)"
   ]
  },
  {
   "cell_type": "markdown",
   "id": "86763b66",
   "metadata": {},
   "source": [
    "#### Scatter plot of the new coordinates"
   ]
  },
  {
   "cell_type": "code",
   "execution_count": null,
   "id": "ebcf5547",
   "metadata": {},
   "outputs": [],
   "source": [
    "x = data[:,0,:].reshape(-1)\n",
    "y = data[:,1,:].reshape(-1)\n",
    "\n",
    "fig, ax = plt.subplots(figsize=(5,5))\n",
    "plt.scatter(x, y, c='black')\n",
    "ax.set_yticks(np.linspace(-0.5,14.5,16), minor=True)\n",
    "ax.set_xticks(np.linspace(-0.5,14.5,16), minor=True)\n",
    "ax.yaxis.grid(True, which='minor')\n",
    "ax.xaxis.grid(True, which='minor')\n",
    "plt.show()"
   ]
  },
  {
   "cell_type": "markdown",
   "id": "b248f265",
   "metadata": {},
   "source": [
    "#### Flip the data \n",
    "(because the origin is actually the upper left corner)"
   ]
  },
  {
   "cell_type": "code",
   "execution_count": null,
   "id": "6318ef55",
   "metadata": {},
   "outputs": [],
   "source": [
    "data[:,0,:] = -data[:,0,:]+14\n",
    "data[:,1,:] = -data[:,1,:]+14"
   ]
  },
  {
   "cell_type": "markdown",
   "id": "a7dab18e",
   "metadata": {},
   "source": [
    "#### Correct invalid moves"
   ]
  },
  {
   "cell_type": "code",
   "execution_count": null,
   "id": "1d214737",
   "metadata": {},
   "outputs": [],
   "source": [
    "# Hard coding to correct discontinuity errors\n",
    "idx = np.where((data[:,:,5] == [8,4]).all(axis=1) & (np.roll(data[:,:,5],-1,axis=0) == [8,6]).all(axis=1))[0]\n",
    "data[idx,1,5]=5\n",
    "data[idx+1,1,5]=6\n",
    "data[idx+2,1,5]=7"
   ]
  },
  {
   "cell_type": "code",
   "execution_count": null,
   "id": "51f3cd0c",
   "metadata": {},
   "outputs": [],
   "source": [
    "idx = np.where((data[:,:,5] == [7,8]).all(axis=1) & (np.roll(data[:,:,5],-1,axis=0) == [7,6]).all(axis=1))[0]\n",
    "print(idx)\n",
    "data[idx+1,1,5]=7\n",
    "data[idx+2,1,5]=7\n",
    "data[idx+3,1,5]=7\n",
    "data[idx+4,1,5]=7\n",
    "data[idx+5,1,5]=7"
   ]
  },
  {
   "cell_type": "code",
   "execution_count": null,
   "id": "e790bd7a",
   "metadata": {},
   "outputs": [],
   "source": [
    "idx = np.where((data[:,:,6] == [9,5]).all(axis=1) & (np.roll(data[:,:,6],-1,axis=0) == [8,3]).all(axis=1))[0]\n",
    "print(idx)\n",
    "data[idx+1,:,6]=[9,5]\n",
    "data[idx+2,:,6]=[9,5]\n",
    "data[idx+3,:,6]=[9,5]\n",
    "data[idx+4,:,6]=[9,5]\n",
    "data[idx+5,:,6]=[9,5]"
   ]
  },
  {
   "cell_type": "code",
   "execution_count": null,
   "id": "2d64fdd8",
   "metadata": {},
   "outputs": [],
   "source": [
    "idx = np.where((data[:,:,7] == [9,5]).all(axis=1) & (np.roll(data[:,:,7],-1,axis=0) == [8,4]).all(axis=1))[0]\n",
    "print(idx)\n",
    "data[idx+2,:,7]=[8,3]\n",
    "data[idx+3,:,7]=[8,4]\n",
    "data[idx+4,:,7]=[9,5]\n",
    "data[idx+5,:,7]=[9,5]"
   ]
  },
  {
   "cell_type": "code",
   "execution_count": null,
   "id": "c3758d2c",
   "metadata": {},
   "outputs": [],
   "source": [
    "# Corrects moves DOWN into the obstacle (from y=8 to y=7)\n",
    "for i in range(num_trials):\n",
    "    for j in range(5,10):\n",
    "        idx = np.where((data[:,:,i] == [j,8]).all(axis=1) & (np.roll(data[:,:,i],-1,axis=0) == [j,7]).all(axis=1))[0]\n",
    "        for k in range(len(idx)):\n",
    "            n=idx[k]+1\n",
    "            while data[n,0,i]>4 and data[n,0,i]<10 and data[n,1,i]==7:\n",
    "                data[n,1,i]=8\n",
    "                if n<num_timepts-1:\n",
    "                    n=n+1"
   ]
  },
  {
   "cell_type": "code",
   "execution_count": null,
   "id": "c0f650a0",
   "metadata": {},
   "outputs": [],
   "source": [
    "# Corrects moves UP into the obstacle (from y=7 to y=8)\n",
    "for i in range(num_trials):\n",
    "    for j in range(5,10):\n",
    "        idx = np.where((data[:,:,i] == [j,7]).all(axis=1) & (np.roll(data[:,:,i],-1,axis=0) == [j,8]).all(axis=1))[0]\n",
    "        for k in range(len(idx)):\n",
    "            n=idx[k]+1\n",
    "            while data[n,0,i]>4 and data[n,0,i]<10 and data[n,1,i]==8:\n",
    "                data[n,1,i]=7\n",
    "                if n<num_timepts-1:\n",
    "                    n=n+1"
   ]
  },
  {
   "cell_type": "code",
   "execution_count": null,
   "id": "dee675a2",
   "metadata": {},
   "outputs": [],
   "source": [
    "# Hard coding to correct issues arsing from move corrections\n",
    "idx = np.where((data[:,:,4] == [6,7]).all(axis=1) & (np.roll(data[:,:,4],-1,axis=0) == [6,9]).all(axis=1))[0]\n",
    "print(idx)\n",
    "data[idx+1,:,4]=[5,7]\n",
    "data[idx+2,:,4]=[4,7]\n",
    "data[idx+3,:,4]=[4,8]\n",
    "data[idx+4,:,4]=[5,8]"
   ]
  },
  {
   "cell_type": "code",
   "execution_count": null,
   "id": "b93affd2",
   "metadata": {},
   "outputs": [],
   "source": [
    "idx = np.where((data[:,:,5] == [9,8]).all(axis=1) & (np.roll(data[:,:,5],-1,axis=0) == [8,6]).all(axis=1))[0]\n",
    "print(idx)\n",
    "data[idx+1,:,5]=[10,8]\n",
    "data[idx+2,:,5]=[10,7]\n",
    "data[idx+3,:,5]=[9,7]\n",
    "data[idx+4,:,5]=[9,7]\n",
    "data[idx+5,:,5]=[9,7]\n",
    "data[idx+6,:,5]=[9,7]"
   ]
  },
  {
   "cell_type": "code",
   "execution_count": null,
   "id": "cff3c4ab",
   "metadata": {},
   "outputs": [],
   "source": [
    "idx = np.where((data[:,:,5] == [5,7]).all(axis=1) & (np.roll(data[:,:,5],-1,axis=0) == [4,8]).all(axis=1))[0]\n",
    "print(idx)\n",
    "data[idx+1,:,5]=[4,7]"
   ]
  },
  {
   "cell_type": "markdown",
   "id": "ad4809e3",
   "metadata": {},
   "source": [
    "#### Ensure all the gridworld positions are valid"
   ]
  },
  {
   "cell_type": "code",
   "execution_count": null,
   "id": "1aa3a9a3",
   "metadata": {
    "scrolled": false
   },
   "outputs": [],
   "source": [
    "# Array of the bottom left invalid points\n",
    "invalid_bl = np.array([[1,1],[1,2],[1,3],[2,1]])\n",
    "\n",
    "\n",
    "# Flip along the middle axes to get all the invalid points\n",
    "# Top left\n",
    "invalid_tl = np.copy(invalid_bl)\n",
    "invalid_tl[:,1] = -invalid_tl[:,1]+14\n",
    "# Top right\n",
    "invalid_tr = np.copy(invalid_tl)\n",
    "invalid_tr[:,0] = -invalid_tr[:,0]+14\n",
    "# Bottom right\n",
    "invalid_br = np.copy(invalid_bl)\n",
    "invalid_br[:,0] = -invalid_br[:,0]+14\n",
    "\n",
    "# Full array of invalid points\n",
    "invalid = np.concatenate((invalid_bl, invalid_tl, invalid_tr, invalid_br), axis=0)\n",
    "\n",
    "# Print list of indices of invalid points, and the invalid point they correspond to\n",
    "for i in range(num_trials):\n",
    "    for point in invalid:\n",
    "        indexes = np.where(np.all(point == data[:,0:2,i], axis=1))\n",
    "        if len(indexes[0])>0:\n",
    "            print(\"Trial number:\", i)\n",
    "            print(\"Point:\", point)\n",
    "            print(len(indexes[0]))\n",
    "            \n",
    "# If nothing prints, all is well!"
   ]
  },
  {
   "cell_type": "markdown",
   "id": "b648ab7a",
   "metadata": {},
   "source": [
    "#### Plot a single trial in the new gridworld coordinate system"
   ]
  },
  {
   "cell_type": "code",
   "execution_count": null,
   "id": "4f29ec29",
   "metadata": {},
   "outputs": [],
   "source": [
    "plt.figure(figsize=(5,5))\n",
    "for i in range(num_trials):\n",
    "    trial1_x = data[:,0,i]\n",
    "    trial1_y = data[:,1,i]\n",
    "    plt.plot(trial1_x, trial1_y, 'black')\n",
    "plt.xlim([0,14])\n",
    "plt.ylim([0,14])"
   ]
  },
  {
   "cell_type": "markdown",
   "id": "7135ffd5",
   "metadata": {},
   "source": [
    "## Save the transformed data"
   ]
  },
  {
   "cell_type": "code",
   "execution_count": null,
   "id": "4b103814",
   "metadata": {},
   "outputs": [],
   "source": [
    "np.save('mouse_data_1.npy', data)"
   ]
  },
  {
   "cell_type": "code",
   "execution_count": null,
   "id": "0dfe47c1",
   "metadata": {},
   "outputs": [],
   "source": [
    "# Extend the dataset by concatenating repeats of it\n",
    "num_repeats = 25\n",
    "new_num_trials = num_trials*num_repeats\n",
    "temp = np.zeros((num_timepts, num_coords, new_num_trials))\n",
    "\n",
    "for i in range(num_repeats):\n",
    "    print(i*num_timepts,i*num_timepts+num_timepts)\n",
    "    temp[:,:,i*num_trials:i*num_trials+num_trials] = data\n",
    "\n",
    "data = temp"
   ]
  },
  {
   "cell_type": "code",
   "execution_count": null,
   "id": "75f54ee6",
   "metadata": {},
   "outputs": [],
   "source": [
    "# Shuffle the extended dataset\n",
    "rng = np.random.default_rng()\n",
    "rng.shuffle(data, axis=2)"
   ]
  },
  {
   "cell_type": "code",
   "execution_count": null,
   "id": "1d340fd0",
   "metadata": {},
   "outputs": [],
   "source": [
    "np.save('mouse_data_1_extendedx25_shuffled.npy', data)"
   ]
  },
  {
   "cell_type": "code",
   "execution_count": null,
   "id": "207c61a3",
   "metadata": {
    "scrolled": true
   },
   "outputs": [],
   "source": [
    "# Remove consecutively identical coordinates (the github code does this normally, this code here is just for checks/testing)\n",
    "temp = np.zeros((num_timepts, num_coords, num_trials))\n",
    "lengths = np.zeros((num_trials))\n",
    "for i in range(num_trials):\n",
    "    a = data[:,:,i]\n",
    "    a = a[np.insert(np.invert(np.all(np.diff(a,axis=0)==0,axis=1)), 0, True)]\n",
    "    temp[0:len(a),:,i] = a\n",
    "    lengths[i]=len(a)\n",
    "    \n",
    "data = temp\n",
    "print(lengths)\n",
    "print(np.sum(lengths))"
   ]
  },
  {
   "cell_type": "code",
   "execution_count": null,
   "id": "5f5f4e5c",
   "metadata": {},
   "outputs": [],
   "source": [
    "np.save('mouse_data_1_TEST.npy', data)"
   ]
  }
 ],
 "metadata": {
  "kernelspec": {
   "display_name": "Python 3 (ipykernel)",
   "language": "python",
   "name": "python3"
  },
  "language_info": {
   "codemirror_mode": {
    "name": "ipython",
    "version": 3
   },
   "file_extension": ".py",
   "mimetype": "text/x-python",
   "name": "python",
   "nbconvert_exporter": "python",
   "pygments_lexer": "ipython3",
   "version": "3.9.13"
  }
 },
 "nbformat": 4,
 "nbformat_minor": 5
}
