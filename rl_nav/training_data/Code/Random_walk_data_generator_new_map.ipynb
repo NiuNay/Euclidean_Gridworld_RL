{
 "cells": [
  {
   "cell_type": "markdown",
   "id": "054c8144",
   "metadata": {},
   "source": [
    "Code used to produce random walk trajectories in the new gridworld map, fit to the mouse data."
   ]
  },
  {
   "cell_type": "code",
   "execution_count": null,
   "id": "aca161fd",
   "metadata": {},
   "outputs": [],
   "source": [
    "import random\n",
    "import numpy as np\n",
    "import matplotlib.pyplot as plt"
   ]
  },
  {
   "cell_type": "markdown",
   "id": "15759913",
   "metadata": {},
   "source": [
    "## Define the space"
   ]
  },
  {
   "cell_type": "markdown",
   "id": "949ec1f6",
   "metadata": {},
   "source": [
    "#### Define the actions that can be taken and the movement they result in"
   ]
  },
  {
   "cell_type": "code",
   "execution_count": null,
   "id": "e99db34d",
   "metadata": {},
   "outputs": [],
   "source": [
    "random.seed(0)\n",
    "\n",
    "action_space = np.array([0, 1, 2, 3, 4, 5, 6, 7])\n",
    "# 0: LEFT\n",
    "# 1: UP\n",
    "# 2: RIGHT\n",
    "# 3: DOWN\n",
    "# 4: LEFT-UP\n",
    "# 5: RIGHT-UP\n",
    "# 6: RIGHT-DOWN\n",
    "# 7: LEFT-DOWN\n",
    "delta = np.array([[-1, 0],[0, 1],[1, 0],[0, -1],[-1, 1],[1, 1],[1, -1],[-1, -1]])"
   ]
  },
  {
   "cell_type": "markdown",
   "id": "72d718c3",
   "metadata": {},
   "source": [
    "#### Create array of invalid points within a 13x13 grid"
   ]
  },
  {
   "cell_type": "code",
   "execution_count": null,
   "id": "dd9f9984",
   "metadata": {},
   "outputs": [],
   "source": [
    "#Array of obstacle coordinates\n",
    "obstacle = np.array([[5,7],[6,7],[7,7],[8,7],[9,7]])\n",
    "\n",
    "#Array of borders\n",
    "top_border = np.zeros([11,2])\n",
    "bottom_border = np.zeros([11,2])\n",
    "left_border = np.zeros([9,2])\n",
    "right_border = np.zeros([9,2])\n",
    "for i in range(11):\n",
    "    top_border[i] = [i+2,14] \n",
    "    bottom_border[i] = [i+2,0]\n",
    "for i in range(9):\n",
    "    left_border[i] = [0,i+3]\n",
    "    right_border[i] = [14,i+3]\n",
    "    \n",
    "\n",
    "#Array of the bottom left invalid points\n",
    "invalid_bl = np.array([[1,1],[1,2],[1,3],[2,1]])\n",
    "#Flip along the middle axes to get all the invalid points\n",
    "#Top left\n",
    "invalid_tl = np.copy(invalid_bl)\n",
    "invalid_tl[:,1] = -invalid_tl[:,1]+14\n",
    "#Top right\n",
    "invalid_tr = np.copy(invalid_tl)\n",
    "invalid_tr[:,0] = -invalid_tr[:,0]+14\n",
    "#Bottom right\n",
    "invalid_br = np.copy(invalid_bl)\n",
    "invalid_br[:,0] = -invalid_br[:,0]+14\n",
    "\n",
    "\n",
    "#Full array of invalid points\n",
    "invalid_all = np.concatenate((obstacle, top_border, bottom_border, left_border, right_border, invalid_bl, invalid_tl, invalid_tr, invalid_br), axis=0)\n",
    "invalid = np.concatenate((top_border, bottom_border, left_border, right_border, invalid_bl, invalid_tl, invalid_tr, invalid_br), axis=0)"
   ]
  },
  {
   "cell_type": "markdown",
   "id": "a672dc67",
   "metadata": {},
   "source": [
    "#### Create array of invalid transitions for conditions 3 & 4"
   ]
  },
  {
   "cell_type": "code",
   "execution_count": null,
   "id": "8e4bbce4",
   "metadata": {},
   "outputs": [],
   "source": [
    "# 0: LEFT\n",
    "# 1: UP\n",
    "# 2: RIGHT\n",
    "# 3: DOWN\n",
    "# 4: LEFT-UP\n",
    "# 5: RIGHT-UP\n",
    "# 6: RIGHT-DOWN\n",
    "# 7: LEFT-DOWN\n",
    "\n",
    "F_actions = np.array([2,3,6,7])\n",
    "A_actions = np.array([0,3,6,7])\n",
    "Z_actions = np.array([7])\n",
    "H_actions = np.array([0,3,7])\n",
    "K_actions = np.array([2,3,6])\n",
    "Y_actions = np.array([6])\n",
    "V_actions = np.array([7,0])\n",
    "U_actions = np.array([2,6])\n",
    "X_actions = np.array([0,3,4,7])\n",
    "W_actions = np.array([2,3,5,6])\n",
    "B_actions = np.array([3,6,7])\n",
    "B_exit_actions = np.array([1,4,5])"
   ]
  },
  {
   "cell_type": "markdown",
   "id": "a99dd018",
   "metadata": {},
   "source": [
    "## Generate the data"
   ]
  },
  {
   "cell_type": "markdown",
   "id": "8d74219d",
   "metadata": {},
   "source": [
    "### Conditions 1 & 2"
   ]
  },
  {
   "cell_type": "markdown",
   "id": "81c15f74",
   "metadata": {},
   "source": [
    "#### V1: does not record attempts to make invalid moves \n",
    "-> more similar to mouse data"
   ]
  },
  {
   "cell_type": "code",
   "execution_count": null,
   "id": "93d31f97",
   "metadata": {
    "scrolled": true
   },
   "outputs": [],
   "source": [
    "num_trials = 8 \n",
    "num_steps = 1420\n",
    "data = np.zeros([num_steps,2,num_trials])\n",
    "\n",
    "trial_count = 0\n",
    "while trial_count < num_trials:\n",
    "    current_position = np.array([7,12])\n",
    "    data[0,:,trial_count] = current_position\n",
    "    step_count = 1\n",
    "    while step_count < num_steps:\n",
    "        old_position = current_position\n",
    "        action = random.choice(action_space)\n",
    "        current_position = current_position + delta[action]\n",
    "        if current_position.tolist() in invalid_all.tolist():\n",
    "            current_position = old_position\n",
    "            index = np.argwhere(action_space==action)\n",
    "            new_action_space = np.delete(action_space, index)\n",
    "            action_space = new_action_space\n",
    "        else:\n",
    "            data[step_count,:,trial_count] = current_position\n",
    "            step_count += 1\n",
    "            action_space = np.array([0, 1, 2, 3, 4, 5, 6, 7])\n",
    "    trial_count += 1"
   ]
  },
  {
   "cell_type": "code",
   "execution_count": null,
   "id": "3fe11dae",
   "metadata": {},
   "outputs": [],
   "source": [
    "# With practice runs\n",
    "num_trials = 8 \n",
    "num_steps = 1420\n",
    "data = np.zeros([num_steps,2,num_trials])\n",
    "\n",
    "trial_count = 0\n",
    "while trial_count < num_trials:\n",
    "    current_position = np.array([7,12])\n",
    "    data[0,:,trial_count] = current_position\n",
    "    step_count = 1\n",
    "    while step_count < num_steps:\n",
    "        old_position = current_position\n",
    "        action = random.choice(action_space)\n",
    "        current_position = current_position + delta[action]\n",
    "        if current_position.tolist() == [8,12]:\n",
    "            data[step_count,:,trial_count] = current_position\n",
    "            step_count += 1\n",
    "            action_space = np.array([0, 1, 2, 3, 4, 5, 6, 7])\n",
    "            if random.random()<0.2:\n",
    "                for a in [6,3,3,6,3]:\n",
    "                    if step_count < num_steps:\n",
    "                        old_position = current_position\n",
    "                        current_position = current_position + delta[a]\n",
    "                        data[step_count,:,trial_count] = current_position\n",
    "                        step_count += 1\n",
    "        elif current_position.tolist() == [6,12]:\n",
    "            data[step_count,:,trial_count] = current_position\n",
    "            step_count += 1\n",
    "            action_space = np.array([0, 1, 2, 3, 4, 5, 6, 7])\n",
    "            if random.random()<0.2:\n",
    "                for a in [7,3,3,7,3]:\n",
    "                    if step_count < num_steps:\n",
    "                        old_position = current_position\n",
    "                        current_position = current_position + delta[a]\n",
    "                        data[step_count,:,trial_count] = current_position\n",
    "                        step_count += 1\n",
    "        elif current_position.tolist() == [7,12]:\n",
    "            data[step_count,:,trial_count] = current_position\n",
    "            step_count += 1\n",
    "            action_space = np.array([0, 1, 2, 3, 4, 5, 6, 7])\n",
    "            if random.random()<0.2:\n",
    "                for a in [3,7,7,7,3]:\n",
    "                    if step_count < num_steps:\n",
    "                        old_position = current_position\n",
    "                        current_position = current_position + delta[a]\n",
    "                        data[step_count,:,trial_count] = current_position\n",
    "                        step_count += 1             \n",
    "            elif random.random()<0.2:\n",
    "                for a in [3,6,6,6,3]:\n",
    "                    if step_count < num_steps:\n",
    "                        old_position = current_position\n",
    "                        current_position = current_position + delta[a]\n",
    "                        data[step_count,:,trial_count] = current_position\n",
    "                        step_count += 1\n",
    "        elif current_position.tolist() == [4,7]:\n",
    "            data[step_count,:,trial_count] = current_position\n",
    "            step_count += 1\n",
    "            action_space = np.array([0, 1, 2, 3, 4, 5, 6, 7])\n",
    "            if random.random()<0.2:\n",
    "                for a in [3,6,6,6,3,3]:\n",
    "                    if step_count < num_steps:\n",
    "                        old_position = current_position\n",
    "                        current_position = current_position + delta[a]\n",
    "                        data[step_count,:,trial_count] = current_position\n",
    "                        step_count += 1\n",
    "        elif current_position.tolist() == [10,7]:\n",
    "            data[step_count,:,trial_count] = current_position\n",
    "            step_count += 1\n",
    "            action_space = np.array([0, 1, 2, 3, 4, 5, 6, 7])\n",
    "            if random.random()<0.2:\n",
    "                for a in [3,7,7,7,3,3]:\n",
    "                    if step_count < num_steps:\n",
    "                        old_position = current_position\n",
    "                        current_position = current_position + delta[a]\n",
    "                        data[step_count,:,trial_count] = current_position\n",
    "                        step_count += 1\n",
    "        elif current_position.tolist() in invalid_all.tolist():\n",
    "            current_position = old_position\n",
    "            index = np.argwhere(action_space==action)\n",
    "            new_action_space = np.delete(action_space, index)\n",
    "            action_space = new_action_space\n",
    "        else:\n",
    "            data[step_count,:,trial_count] = current_position\n",
    "            step_count += 1\n",
    "            action_space = np.array([0, 1, 2, 3, 4, 5, 6, 7])    \n",
    "    trial_count += 1"
   ]
  },
  {
   "cell_type": "code",
   "execution_count": null,
   "id": "91d66edf",
   "metadata": {},
   "outputs": [],
   "source": [
    "# Extend the dataset by concatenating repeats of it\n",
    "num_repeats = 10\n",
    "new_num_trials = num_trials*num_repeats\n",
    "temp = np.zeros((num_steps, 2, new_num_trials))\n",
    "\n",
    "for i in range(num_repeats):\n",
    "    temp[:,:,i*num_trials:i*num_trials+num_trials] = data\n",
    "\n",
    "data_extended = temp"
   ]
  },
  {
   "cell_type": "code",
   "execution_count": null,
   "id": "94ef9ca9",
   "metadata": {},
   "outputs": [],
   "source": [
    "# Save the data, or data_extended\n",
    "np.save('random_walk_data_1_2_extendedx5.npy', data_extended)"
   ]
  },
  {
   "cell_type": "markdown",
   "id": "5fb73cd0",
   "metadata": {},
   "source": [
    "## Plot a trial"
   ]
  },
  {
   "cell_type": "code",
   "execution_count": null,
   "id": "dfceb548",
   "metadata": {
    "scrolled": false
   },
   "outputs": [],
   "source": [
    "data = np.load('random_walk_data_1_2_extendedx5.npy')\n",
    "trial1_x = data[:,0,2]\n",
    "trial1_y = data[:,1,2]\n",
    "plt.plot(trial1_x, trial1_y)\n",
    "\n",
    "# Uncomment to plot dots corresponding to the position of the condition 3 tripwires\n",
    "# plt.scatter([4,9,5,10,5,6,8,9],[10,10,10,10,9,9,9,9])\n",
    "# plt.xlim([0,14])\n",
    "# plt.ylim([0,14])"
   ]
  },
  {
   "cell_type": "markdown",
   "id": "7d077263",
   "metadata": {},
   "source": [
    "## Check for invalid points"
   ]
  },
  {
   "cell_type": "code",
   "execution_count": null,
   "id": "0c974c2d",
   "metadata": {},
   "outputs": [],
   "source": [
    "# Load up the data if you've already saved something\n",
    "data = np.load('random_walk_data_1_2_extendedx5.npy')"
   ]
  },
  {
   "cell_type": "code",
   "execution_count": null,
   "id": "9e4e82e3",
   "metadata": {},
   "outputs": [],
   "source": [
    "for i in range(num_trials):\n",
    "    for point in invalid:\n",
    "        indexes = np.where(np.all(point == data[:,:,i], axis=1))\n",
    "        if len(indexes[0])>0:\n",
    "            print(indexes[0])\n",
    "            \n",
    "# If nothing prints, all is well!"
   ]
  }
 ],
 "metadata": {
  "kernelspec": {
   "display_name": "Python 3 (ipykernel)",
   "language": "python",
   "name": "python3"
  },
  "language_info": {
   "codemirror_mode": {
    "name": "ipython",
    "version": 3
   },
   "file_extension": ".py",
   "mimetype": "text/x-python",
   "name": "python",
   "nbconvert_exporter": "python",
   "pygments_lexer": "ipython3",
   "version": "3.9.13"
  }
 },
 "nbformat": 4,
 "nbformat_minor": 5
}
